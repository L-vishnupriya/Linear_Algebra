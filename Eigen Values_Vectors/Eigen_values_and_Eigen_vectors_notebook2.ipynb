{
  "nbformat": 4,
  "nbformat_minor": 0,
  "metadata": {
    "colab": {
      "provenance": []
    },
    "kernelspec": {
      "name": "python3",
      "display_name": "Python 3"
    },
    "language_info": {
      "name": "python"
    }
  },
  "cells": [
    {
      "cell_type": "markdown",
      "source": [
        "## PROBLEM:"
      ],
      "metadata": {
        "id": "n7QD8iy3DszX"
      }
    },
    {
      "cell_type": "markdown",
      "source": [
        "A=[2   1   0  ][1  0  3][0 -1  4] to calculate the eigenvalues and vectors of matrix A.You may use python function to do calculate them..\n",
        "How can we verify that the eigenvectors that corresponds to distinct eigenvalues are Independent?Is there a way to code it in python?Clue:Reduced Row Echelon?"
      ],
      "metadata": {
        "id": "cuziEN2tFKXK"
      }
    },
    {
      "cell_type": "markdown",
      "source": [
        "**1.IMPORT NUMPY LIBRARY:**\n",
        "         We import the NumPy library, which provides support for numerical operations and linear algebra.\n",
        "\n",
        "**2.DEFINE THE CORRECTED MATRIX A:**\n",
        "         We define the matrix A using NumPy's array function. This matrix represents the linear transformation we are intersected in.\n",
        "**3.CALCULATE EIGENVALUES AND EIGENVECTORS:**\n",
        "         We use NumPy 'linalg.eig' function to calculate the eigenvalues and eigenvectors of matrix A. Eigenvalues represent the scaling factors for the eigenvectors.\n",
        "\n",
        "**4.PRINT EIGENVALUES AND EIGENVECTORS:**\n",
        "         We print out the eigenvalues and eigenvectors calculated in the previous step.\n",
        "\n",
        "**5.VERIFYING INDEPENDENCE OF EIGENVECTORS CORRESPONDING TO DISTINCT EIGENVALUES:**\n",
        "         Here we start verifying if the eigenvectors corresponding to distinct eigenvalues are linearly independent. We first find the distinct eigenvalues using 'np.unique'.\n",
        "\n",
        "**6.LOOP OVER DISTINCT EIGENVALUES:**\n",
        "         We iterate over each distinct eigenvalue and check if the corresponding eigenvectors are linearly independent.\n",
        "\n",
        "**7.GET INDICES OF EIGENVECTORS CORRESPONDING TO THE CURRENT EIGENVALUE:**\n",
        "        For each distinct eigenvalue, we find the indices of eigenvectors in the array of eigenvalues.\n",
        "\n",
        "**8.EXTRACT CORRESPONDING EIGENVECTORS:**\n",
        "        We extract the corresponding eigenvectors from the array of eigenvectors.\n",
        "\n",
        "**10.CHECK IF THE EIGENVECTORS ARE LINEARLY INDEPENDENT USING REDUCED ROW ECHELON FORM:**\n",
        "        We use np.linalg.matrix_rank to compute the rank of the extracted eigenvectors. If the rank is less than the number of eigenvectors, it indicates linear dependence.\n",
        "\n",
        "**11.UPDATE INDEPENDENCE_FLAG:**\n",
        "        If at any point during the loop, we find that eigenvectors are linearly dependent, we set 'independence_flag' to False and break out of the loop."
      ],
      "metadata": {
        "id": "njA3KU4THRym"
      }
    },
    {
      "cell_type": "code",
      "source": [
        "import numpy as np\n",
        "\n",
        "# Define the corrected matrix A\n",
        "A = np.array([[2, 1, 0],\n",
        "              [1, 3, -1],\n",
        "              [0, -1, 4]])\n",
        "\n",
        "# Calculate eigenvalues and eigenvectors\n",
        "eigenvalues, eigenvectors = np.linalg.eig(A)"
      ],
      "metadata": {
        "id": "EfzGJmeuIEB6"
      },
      "execution_count": null,
      "outputs": []
    },
    {
      "cell_type": "code",
      "source": [
        "# Print eigenvalues and eigenvectors\n",
        "print(\"Eigenvalues:\")\n",
        "print(eigenvalues)\n",
        "print(\"\\nEigenvectors:\")\n",
        "print(eigenvectors)\n",
        "\n",
        "# Verifying independence of eigenvectors corresponding to distinct eigenvalues\n",
        "# First, let's find distinct eigenvalues\n",
        "distinct_eigenvalues = np.unique(eigenvalues)"
      ],
      "metadata": {
        "colab": {
          "base_uri": "https://localhost:8080/"
        },
        "id": "o7TIKTJVIPmo",
        "outputId": "df3a7c01-f6c1-4742-9617-81e77408ac56"
      },
      "execution_count": null,
      "outputs": [
        {
          "output_type": "stream",
          "name": "stdout",
          "text": [
            "Eigenvalues:\n",
            "[1.26794919 3.         4.73205081]\n",
            "\n",
            "Eigenvectors:\n",
            "[[-0.78867513 -0.57735027 -0.21132487]\n",
            " [ 0.57735027 -0.57735027 -0.57735027]\n",
            " [ 0.21132487 -0.57735027  0.78867513]]\n"
          ]
        }
      ]
    },
    {
      "cell_type": "code",
      "source": [
        "# Then, we'll check the independence of eigenvectors corresponding to distinct eigenvalues\n",
        "independence_flag = True\n",
        "for eigenvalue in distinct_eigenvalues:\n",
        "    # Get indices of eigenvectors corresponding to the current eigenvalue\n",
        "    eigenvalue_indices = np.where(eigenvalues == eigenvalue)[0]\n",
        "    # Extract corresponding eigenvectors\n",
        "    eigenvectors_subset = eigenvectors[:, eigenvalue_indices]\n",
        "    # Check if the eigenvectors are linearly independent using reduced row echelon form\n",
        "    rref = np.linalg.matrix_rank(eigenvectors_subset)\n",
        "    if rref < eigenvectors_subset.shape[1]:\n",
        "        independence_flag = False\n",
        "        break\n",
        "\n",
        "# Print the result\n",
        "if independence_flag:\n",
        "    print(\"\\nThe eigenvectors corresponding to distinct eigenvalues are linearly independent.\")\n",
        "else:\n",
        "    print(\"\\nThe eigenvectors corresponding to distinct eigenvalues are linearly dependent.\")"
      ],
      "metadata": {
        "colab": {
          "base_uri": "https://localhost:8080/"
        },
        "id": "M2l91BeyIyeM",
        "outputId": "282b075f-674d-4504-8416-64671de6878e"
      },
      "execution_count": null,
      "outputs": [
        {
          "output_type": "stream",
          "name": "stdout",
          "text": [
            "\n",
            "The eigenvectors corresponding to distinct eigenvalues are linearly independent.\n"
          ]
        }
      ]
    },
    {
      "cell_type": "markdown",
      "source": [
        "**12.CONCLUSION**: Finally, we print the eigenvectors corresponding to distinct eigenvalues are linearly independent based on the value of 'independence_flag'.\n",
        "\n",
        "\n"
      ],
      "metadata": {
        "id": "Nz6-sO9AI4Ht"
      }
    }
  ]
}