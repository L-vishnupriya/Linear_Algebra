{
  "nbformat": 4,
  "nbformat_minor": 0,
  "metadata": {
    "colab": {
      "provenance": []
    },
    "kernelspec": {
      "name": "python3",
      "display_name": "Python 3"
    },
    "language_info": {
      "name": "python"
    }
  },
  "cells": [
    {
      "cell_type": "code",
      "execution_count": 1,
      "metadata": {
        "colab": {
          "base_uri": "https://localhost:8080/",
          "height": 73
        },
        "id": "YFGPR06nApzx",
        "outputId": "a9f98103-4fa2-48fe-88f2-1d681de2c57e"
      },
      "outputs": [
        {
          "output_type": "display_data",
          "data": {
            "text/plain": [
              "<IPython.core.display.HTML object>"
            ],
            "text/html": [
              "\n",
              "     <input type=\"file\" id=\"files-9b46c52c-f27d-4d7f-ab9b-2f50b91582b0\" name=\"files[]\" multiple disabled\n",
              "        style=\"border:none\" />\n",
              "     <output id=\"result-9b46c52c-f27d-4d7f-ab9b-2f50b91582b0\">\n",
              "      Upload widget is only available when the cell has been executed in the\n",
              "      current browser session. Please rerun this cell to enable.\n",
              "      </output>\n",
              "      <script>// Copyright 2017 Google LLC\n",
              "//\n",
              "// Licensed under the Apache License, Version 2.0 (the \"License\");\n",
              "// you may not use this file except in compliance with the License.\n",
              "// You may obtain a copy of the License at\n",
              "//\n",
              "//      http://www.apache.org/licenses/LICENSE-2.0\n",
              "//\n",
              "// Unless required by applicable law or agreed to in writing, software\n",
              "// distributed under the License is distributed on an \"AS IS\" BASIS,\n",
              "// WITHOUT WARRANTIES OR CONDITIONS OF ANY KIND, either express or implied.\n",
              "// See the License for the specific language governing permissions and\n",
              "// limitations under the License.\n",
              "\n",
              "/**\n",
              " * @fileoverview Helpers for google.colab Python module.\n",
              " */\n",
              "(function(scope) {\n",
              "function span(text, styleAttributes = {}) {\n",
              "  const element = document.createElement('span');\n",
              "  element.textContent = text;\n",
              "  for (const key of Object.keys(styleAttributes)) {\n",
              "    element.style[key] = styleAttributes[key];\n",
              "  }\n",
              "  return element;\n",
              "}\n",
              "\n",
              "// Max number of bytes which will be uploaded at a time.\n",
              "const MAX_PAYLOAD_SIZE = 100 * 1024;\n",
              "\n",
              "function _uploadFiles(inputId, outputId) {\n",
              "  const steps = uploadFilesStep(inputId, outputId);\n",
              "  const outputElement = document.getElementById(outputId);\n",
              "  // Cache steps on the outputElement to make it available for the next call\n",
              "  // to uploadFilesContinue from Python.\n",
              "  outputElement.steps = steps;\n",
              "\n",
              "  return _uploadFilesContinue(outputId);\n",
              "}\n",
              "\n",
              "// This is roughly an async generator (not supported in the browser yet),\n",
              "// where there are multiple asynchronous steps and the Python side is going\n",
              "// to poll for completion of each step.\n",
              "// This uses a Promise to block the python side on completion of each step,\n",
              "// then passes the result of the previous step as the input to the next step.\n",
              "function _uploadFilesContinue(outputId) {\n",
              "  const outputElement = document.getElementById(outputId);\n",
              "  const steps = outputElement.steps;\n",
              "\n",
              "  const next = steps.next(outputElement.lastPromiseValue);\n",
              "  return Promise.resolve(next.value.promise).then((value) => {\n",
              "    // Cache the last promise value to make it available to the next\n",
              "    // step of the generator.\n",
              "    outputElement.lastPromiseValue = value;\n",
              "    return next.value.response;\n",
              "  });\n",
              "}\n",
              "\n",
              "/**\n",
              " * Generator function which is called between each async step of the upload\n",
              " * process.\n",
              " * @param {string} inputId Element ID of the input file picker element.\n",
              " * @param {string} outputId Element ID of the output display.\n",
              " * @return {!Iterable<!Object>} Iterable of next steps.\n",
              " */\n",
              "function* uploadFilesStep(inputId, outputId) {\n",
              "  const inputElement = document.getElementById(inputId);\n",
              "  inputElement.disabled = false;\n",
              "\n",
              "  const outputElement = document.getElementById(outputId);\n",
              "  outputElement.innerHTML = '';\n",
              "\n",
              "  const pickedPromise = new Promise((resolve) => {\n",
              "    inputElement.addEventListener('change', (e) => {\n",
              "      resolve(e.target.files);\n",
              "    });\n",
              "  });\n",
              "\n",
              "  const cancel = document.createElement('button');\n",
              "  inputElement.parentElement.appendChild(cancel);\n",
              "  cancel.textContent = 'Cancel upload';\n",
              "  const cancelPromise = new Promise((resolve) => {\n",
              "    cancel.onclick = () => {\n",
              "      resolve(null);\n",
              "    };\n",
              "  });\n",
              "\n",
              "  // Wait for the user to pick the files.\n",
              "  const files = yield {\n",
              "    promise: Promise.race([pickedPromise, cancelPromise]),\n",
              "    response: {\n",
              "      action: 'starting',\n",
              "    }\n",
              "  };\n",
              "\n",
              "  cancel.remove();\n",
              "\n",
              "  // Disable the input element since further picks are not allowed.\n",
              "  inputElement.disabled = true;\n",
              "\n",
              "  if (!files) {\n",
              "    return {\n",
              "      response: {\n",
              "        action: 'complete',\n",
              "      }\n",
              "    };\n",
              "  }\n",
              "\n",
              "  for (const file of files) {\n",
              "    const li = document.createElement('li');\n",
              "    li.append(span(file.name, {fontWeight: 'bold'}));\n",
              "    li.append(span(\n",
              "        `(${file.type || 'n/a'}) - ${file.size} bytes, ` +\n",
              "        `last modified: ${\n",
              "            file.lastModifiedDate ? file.lastModifiedDate.toLocaleDateString() :\n",
              "                                    'n/a'} - `));\n",
              "    const percent = span('0% done');\n",
              "    li.appendChild(percent);\n",
              "\n",
              "    outputElement.appendChild(li);\n",
              "\n",
              "    const fileDataPromise = new Promise((resolve) => {\n",
              "      const reader = new FileReader();\n",
              "      reader.onload = (e) => {\n",
              "        resolve(e.target.result);\n",
              "      };\n",
              "      reader.readAsArrayBuffer(file);\n",
              "    });\n",
              "    // Wait for the data to be ready.\n",
              "    let fileData = yield {\n",
              "      promise: fileDataPromise,\n",
              "      response: {\n",
              "        action: 'continue',\n",
              "      }\n",
              "    };\n",
              "\n",
              "    // Use a chunked sending to avoid message size limits. See b/62115660.\n",
              "    let position = 0;\n",
              "    do {\n",
              "      const length = Math.min(fileData.byteLength - position, MAX_PAYLOAD_SIZE);\n",
              "      const chunk = new Uint8Array(fileData, position, length);\n",
              "      position += length;\n",
              "\n",
              "      const base64 = btoa(String.fromCharCode.apply(null, chunk));\n",
              "      yield {\n",
              "        response: {\n",
              "          action: 'append',\n",
              "          file: file.name,\n",
              "          data: base64,\n",
              "        },\n",
              "      };\n",
              "\n",
              "      let percentDone = fileData.byteLength === 0 ?\n",
              "          100 :\n",
              "          Math.round((position / fileData.byteLength) * 100);\n",
              "      percent.textContent = `${percentDone}% done`;\n",
              "\n",
              "    } while (position < fileData.byteLength);\n",
              "  }\n",
              "\n",
              "  // All done.\n",
              "  yield {\n",
              "    response: {\n",
              "      action: 'complete',\n",
              "    }\n",
              "  };\n",
              "}\n",
              "\n",
              "scope.google = scope.google || {};\n",
              "scope.google.colab = scope.google.colab || {};\n",
              "scope.google.colab._files = {\n",
              "  _uploadFiles,\n",
              "  _uploadFilesContinue,\n",
              "};\n",
              "})(self);\n",
              "</script> "
            ]
          },
          "metadata": {}
        },
        {
          "output_type": "stream",
          "name": "stdout",
          "text": [
            "Saving coding5.jpg to coding5.jpg\n"
          ]
        }
      ],
      "source": [
        "from google.colab import files\n",
        "from IPython.display import Image\n",
        "\n",
        "\n",
        "\n",
        "uploaded = files.upload()"
      ]
    },
    {
      "cell_type": "code",
      "source": [
        "Image('coding5.jpg',width = 520)"
      ],
      "metadata": {
        "colab": {
          "base_uri": "https://localhost:8080/",
          "height": 307
        },
        "id": "l9a-inF7Aqzx",
        "outputId": "66fe1654-c662-4dfd-a86b-c9d2e85a6a34"
      },
      "execution_count": 2,
      "outputs": [
        {
          "output_type": "execute_result",
          "data": {
            "image/jpeg": "[encoded data removed]",
            "text/plain": [
              "<IPython.core.display.Image object>"
            ]
          },
          "metadata": {
            "image/jpeg": {
              "width": 520
            }
          },
          "execution_count": 2
        }
      ]
    },
    {
      "cell_type": "markdown",
      "source": [
        "# 1.Defining the probability matrix:"
      ],
      "metadata": {
        "id": "WrQkz1r9CTLy"
      }
    },
    {
      "cell_type": "code",
      "source": [
        "import numpy as np\n",
        "\n",
        "# Probability matrix\n",
        "P = np.array([[0, 0, 1, 0.5],\n",
        "              [1/3, 0, 0, 0],\n",
        "              [1/3, 0.5, 0, 0.5],\n",
        "              [1/3, 0.5, 0, 0]])"
      ],
      "metadata": {
        "id": "qQBOjvfpA_9z"
      },
      "execution_count": 9,
      "outputs": []
    },
    {
      "cell_type": "markdown",
      "source": [
        "# 2.Defining the initial state vectors:"
      ],
      "metadata": {
        "id": "K3VD6xhlDZHm"
      }
    },
    {
      "cell_type": "code",
      "source": [
        "\n",
        "x_start_page1 = np.array([1, 0, 0, 0])  # Start on Page 1\n",
        "x_start_page3 = np.array([0, 0, 1, 0])  # Start on Page 3"
      ],
      "metadata": {
        "id": "PX7naFmkA_x2"
      },
      "execution_count": 10,
      "outputs": []
    },
    {
      "cell_type": "markdown",
      "source": [
        "# 3.Simulating the Markov chain for Page 1:"
      ],
      "metadata": {
        "id": "9iWxgmAYDf3d"
      }
    },
    {
      "cell_type": "code",
      "source": [
        "x_page1 = x_start_page1\n",
        "for _ in range(100):\n",
        "    x_page1 = np.dot(x_page1, P)"
      ],
      "metadata": {
        "id": "oU3tFHV_C5gP"
      },
      "execution_count": 11,
      "outputs": []
    },
    {
      "cell_type": "markdown",
      "source": [
        "# 4.Displaying the final state probabilities for Page 1:"
      ],
      "metadata": {
        "id": "EB7aj1gDDj7l"
      }
    },
    {
      "cell_type": "code",
      "source": [
        "# Displaying the final composition of vector x for Page 1\n",
        "print(\"Starting on Page 1:\")\n",
        "print(\"After 100 steps:\")\n",
        "print(\"Page 1: {:.4f}\".format(x_page1[0]))\n",
        "print(\"Page 2: {:.4f}\".format(x_page1[1]))\n",
        "print(\"Page 3: {:.4f}\".format(x_page1[2]))\n",
        "print(\"Page 4: {:.4f}\".format(x_page1[3]))\n",
        "print()"
      ],
      "metadata": {
        "colab": {
          "base_uri": "https://localhost:8080/"
        },
        "id": "_b6pT4tEA_kk",
        "outputId": "bbc1a7aa-ef8b-454a-b897-bd0e16c0525b"
      },
      "execution_count": 12,
      "outputs": [
        {
          "output_type": "stream",
          "name": "stdout",
          "text": [
            "Starting on Page 1:\n",
            "After 100 steps:\n",
            "Page 1: 0.3871\n",
            "Page 2: 0.3871\n",
            "Page 3: 0.3871\n",
            "Page 4: 0.3871\n",
            "\n"
          ]
        }
      ]
    },
    {
      "cell_type": "markdown",
      "source": [
        "# 5.Simulating the Markov chain for Page 3:"
      ],
      "metadata": {
        "id": "r8UmR6hDDtSL"
      }
    },
    {
      "cell_type": "code",
      "source": [
        "x_page3 = x_start_page3\n",
        "for _ in range(100):\n",
        "    x_page3 = np.dot(x_page3, P)\n",
        "\n"
      ],
      "metadata": {
        "id": "5tZ7MpEGBTIE"
      },
      "execution_count": 13,
      "outputs": []
    },
    {
      "cell_type": "markdown",
      "source": [
        "# 6.Displaying the final state probabilities for Page 3:"
      ],
      "metadata": {
        "id": "bsX13X36Dymp"
      }
    },
    {
      "cell_type": "code",
      "source": [
        "# Displaying the final composition of vector x for Page 3\n",
        "print(\"Starting on Page 3:\")\n",
        "print(\"After 100 steps:\")\n",
        "print(\"Page 1: {:.4f}\".format(x_page3[0]))\n",
        "print(\"Page 2: {:.4f}\".format(x_page3[1]))\n",
        "print(\"Page 3: {:.4f}\".format(x_page3[2]))\n",
        "print(\"Page 4: {:.4f}\".format(x_page3[3]))\n"
      ],
      "metadata": {
        "colab": {
          "base_uri": "https://localhost:8080/"
        },
        "id": "EjweFd2KBS_2",
        "outputId": "a87906cb-adec-408a-fb96-2a9b0bdc842b"
      },
      "execution_count": 14,
      "outputs": [
        {
          "output_type": "stream",
          "name": "stdout",
          "text": [
            "Starting on Page 3:\n",
            "After 100 steps:\n",
            "Page 1: 0.2903\n",
            "Page 2: 0.2903\n",
            "Page 3: 0.2903\n",
            "Page 4: 0.2903\n"
          ]
        }
      ]
    },
    {
      "cell_type": "markdown",
      "source": [
        "What is this X called ?  \n",
        "      *  X is called the steady-state vector or the stationary distribution."
      ],
      "metadata": {
        "id": "t7aiqv9dEB1T"
      }
    }
  ]
}