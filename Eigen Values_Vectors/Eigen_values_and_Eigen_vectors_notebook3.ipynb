{
  "nbformat": 4,
  "nbformat_minor": 0,
  "metadata": {
    "colab": {
      "provenance": []
    },
    "kernelspec": {
      "name": "python3",
      "display_name": "Python 3"
    },
    "language_info": {
      "name": "python"
    }
  },
  "cells": [
    {
      "cell_type": "markdown",
      "source": [
        "# coding assignment 3:"
      ],
      "metadata": {
        "id": "1gzI8qpfoN0G"
      }
    },
    {
      "cell_type": "markdown",
      "source": [
        "**question:**                                                                 \n",
        "\n",
        " A = [[0, 1, 2], [1, 0, 3], [4, -3, 8]] Write a piece of code to calculate the inverse of this matrix. Do not use any Python function to calculate the inverse. Calculate the product of the original matrix A and its inverse. Create a Python program to calculate the product. Do not use any Python function."
      ],
      "metadata": {
        "id": "mu_kRn5VqbqI"
      }
    },
    {
      "cell_type": "markdown",
      "source": [
        "**1.Matrix A:**"
      ],
      "metadata": {
        "id": "3QJti3OPrjPv"
      }
    },
    {
      "cell_type": "code",
      "execution_count": 3,
      "metadata": {
        "id": "kWFZplhwn_ZQ"
      },
      "outputs": [],
      "source": [
        "# Define the matrix A\n",
        "A = [[0, 1, 2],\n",
        "     [1, 0, 3],\n",
        "     [4, -3, 8]]"
      ]
    },
    {
      "cell_type": "markdown",
      "source": [
        "**2.Cofactor_matrix calculation:**"
      ],
      "metadata": {
        "id": "WbdZ88_jr33h"
      }
    },
    {
      "cell_type": "code",
      "source": [
        "# Function to calculate the cofactor matrix\n",
        "def cofactor_matrix(matrix):\n",
        "    cofactor = []\n",
        "    for i in range(3):\n",
        "        row = []\n",
        "        for j in range(3):\n",
        "            minor = [[matrix[m][n] for n in range(3) if n != j] for m in range(3) if m != i]\n",
        "            determinant = minor[0][0] * minor[1][1] - minor[0][1] * minor[1][0]\n",
        "            row.append(((-1) ** (i + j)) * determinant)\n",
        "        cofactor.append(row)\n",
        "    return cofactor"
      ],
      "metadata": {
        "id": "e-dy4sI4oAQw"
      },
      "execution_count": 4,
      "outputs": []
    },
    {
      "cell_type": "markdown",
      "source": [
        "**3.Transpose function:**"
      ],
      "metadata": {
        "id": "IpsHly6Nr-ud"
      }
    },
    {
      "cell_type": "code",
      "source": [
        "# Function to transpose a matrix\n",
        "def transpose(matrix):\n",
        "    return [[matrix[j][i] for j in range(3)] for i in range(3)]"
      ],
      "metadata": {
        "id": "zfKhmHESoAbq"
      },
      "execution_count": 5,
      "outputs": []
    },
    {
      "cell_type": "markdown",
      "source": [
        "**4.Inverse calculation:**"
      ],
      "metadata": {
        "id": "XrdGM60ksHw_"
      }
    },
    {
      "cell_type": "code",
      "source": [
        "# Function to calculate the inverse of a matrix\n",
        "def inverse(matrix):\n",
        "    cofactor = cofactor_matrix(matrix)\n",
        "    adjoint = transpose(cofactor)\n",
        "    determinant = sum(matrix[0][i] * cofactor[0][i] for i in range(3))\n",
        "    if determinant == 0:\n",
        "        return \"The matrix is singular, so its inverse does not exist.\"\n",
        "    return [[adjoint[i][j] / determinant for j in range(3)] for i in range(3)]\n"
      ],
      "metadata": {
        "id": "6n2N6prtsSTY"
      },
      "execution_count": 6,
      "outputs": []
    },
    {
      "cell_type": "markdown",
      "source": [
        "**5.Inverse of matrix A**"
      ],
      "metadata": {
        "id": "bRF_65BtsWlm"
      }
    },
    {
      "cell_type": "code",
      "source": [
        "# Calculate the inverse of matrix A\n",
        "A_inv = inverse(A)\n",
        "print(\"Inverse of matrix A:\")\n",
        "for row in A_inv:\n",
        "    print(row)"
      ],
      "metadata": {
        "colab": {
          "base_uri": "https://localhost:8080/"
        },
        "id": "qh17rnocqArL",
        "outputId": "b6802348-f048-475c-b166-f697115763f9"
      },
      "execution_count": 7,
      "outputs": [
        {
          "output_type": "stream",
          "name": "stdout",
          "text": [
            "Inverse of matrix A:\n",
            "[-4.5, 7.0, -1.5]\n",
            "[-2.0, 4.0, -1.0]\n",
            "[1.5, -2.0, 0.5]\n"
          ]
        }
      ]
    },
    {
      "cell_type": "markdown",
      "source": [
        "**6.Matrix product function:**"
      ],
      "metadata": {
        "id": "4NViAsx8sMvT"
      }
    },
    {
      "cell_type": "code",
      "source": [
        "# Function to calculate the product of two matrices\n",
        "def matrix_product(matrix1, matrix2):\n",
        "    result = []\n",
        "    for i in range(3):\n",
        "        row = []\n",
        "        for j in range(3):\n",
        "            entry = sum(matrix1[i][k] * matrix2[k][j] for k in range(3))\n",
        "            row.append(entry)\n",
        "        result.append(row)\n",
        "    return result"
      ],
      "metadata": {
        "id": "_RcnlP4GqAg7"
      },
      "execution_count": 8,
      "outputs": []
    },
    {
      "cell_type": "markdown",
      "source": [
        "**7.Product of A and its inverse:**"
      ],
      "metadata": {
        "id": "zfvRAYvosorB"
      }
    },
    {
      "cell_type": "code",
      "source": [
        "# Calculate the product of A and its inverse\n",
        "A_A_inv = matrix_product(A, A_inv)\n",
        "print(\"\\nProduct of A and its inverse:\")\n",
        "for row in A_A_inv:\n",
        "    print(row)\n"
      ],
      "metadata": {
        "colab": {
          "base_uri": "https://localhost:8080/"
        },
        "id": "D63pAzFMqASF",
        "outputId": "53848342-e974-4c17-e445-2e737a476b51"
      },
      "execution_count": 9,
      "outputs": [
        {
          "output_type": "stream",
          "name": "stdout",
          "text": [
            "\n",
            "Product of A and its inverse:\n",
            "[1.0, 0.0, 0.0]\n",
            "[0.0, 1.0, 0.0]\n",
            "[0.0, 0.0, 1.0]\n"
          ]
        }
      ]
    }
  ]
}